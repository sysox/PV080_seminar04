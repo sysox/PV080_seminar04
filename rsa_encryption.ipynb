{
 "cells": [
  {
   "cell_type": "markdown",
   "id": "4fdfa95a",
   "metadata": {},
   "source": [
    "# Part 2: Asymmetric encryption using Rivest-Shamir-Adleman (RSA)"
   ]
  },
  {
   "cell_type": "markdown",
   "id": "a19d71df",
   "metadata": {
    "heading_collapsed": true
   },
   "source": [
    "## Task 1: <font color='gray'>How _NOT_ to do it</font>"
   ]
  },
  {
   "cell_type": "markdown",
   "id": "1bed0ed4",
   "metadata": {
    "hidden": true
   },
   "source": [
    "Use the following links and the information you've already learned\n",
    "**to figure out the potential issues** in the next `code` cell\n",
    "that uses RSA API. The code itself might not even be runable.\n",
    "\n",
    "- [`cryptography.rsa`](https://cryptography.io/en/latest/hazmat/primitives/asymmetric/rsa/?highlight=rsa#) module documentation\n",
    "- [`PKCS1v15 padding caveats`](https://cryptography.io/en/latest/limitations/?highlight=PKCS1%20v1.5#rsa-pkcs1-v1-5-constant-time-decryption)\n",
    "- [Cryptography right answers](https://www.daemonology.net/blog/2009-06-11-cryptographic-right-answers.html)"
   ]
  },
  {
   "cell_type": "code",
   "execution_count": null,
   "id": "19fbc00e",
   "metadata": {
    "hidden": true,
    "solution2": "hidden",
    "solution2_first": true
   },
   "outputs": [],
   "source": [
    "from cryptography.hazmat.primitives.asymmetric import rsa, padding\n",
    "\n",
    "# Hint: What are the reasonable values for RSA keypair generation?\n",
    "private_key = rsa.generate_private_key(\n",
    "    public_exponent=3,\n",
    "    key_size=512,\n",
    ")\n",
    "\n",
    "message = b\"message\"\n",
    "# obtain the public key from the private key\n",
    "public_key = private_key.public_key()\n",
    "\n",
    "# Hint: What options do we have for the padding?\n",
    "pad = padding.PKCS1v15()\n",
    "\n",
    "# Hint: What if we encrypt messages of a different length?\n",
    "ciphertext = public_key.encrypt(\n",
    "    message,\n",
    "    pad,\n",
    ")"
   ]
  },
  {
   "cell_type": "code",
   "execution_count": null,
   "id": "fd54c1e2",
   "metadata": {
    "hidden": true,
    "solution2": "hidden"
   },
   "outputs": [],
   "source": [
    "private_key = rsa.generate_private_key(\n",
    "    # Issue #1: `65537` is recommended as the public exponent\n",
    "    public_exponent=3,\n",
    "    # Issue #2: keys shorter then 2048 bits are not generally considered secure\n",
    "    key_size=512,\n",
    ")\n",
    "\n",
    "public_key = private_key.public_key()\n",
    "# Issue #3: PKCS1v15 is not the recommended padding, especially in the\n",
    "# combination with public exponent `3`\n",
    "pad = padding.PKCS1v15()\n",
    "ciphertext = public_key.encrypt(\n",
    "    # Issue #4: encrypting messages longer than the modulus is not possible\n",
    "    b\"message\" * 100,\n",
    "    pad,\n",
    ")\n",
    "\n",
    "# More on:\n",
    "# combination of `PKCS1v15` and `public_exponent=3` is known to be\n",
    "# vulnerable to some attacks (search for PKCS):\n",
    "# https://www.daemonology.net/blog/2009-06-11-cryptographic-right-answers.html"
   ]
  },
  {
   "cell_type": "markdown",
   "id": "7dfb99b3",
   "metadata": {
    "heading_collapsed": true
   },
   "source": [
    "## <font color='blue'>_Checkpoint 1_:</font> <font color='gray'>encryption issues</font>"
   ]
  },
  {
   "cell_type": "markdown",
   "id": "60140bdf",
   "metadata": {
    "hidden": true
   },
   "source": [
    "**DO NOT** continue further in the notebook, wait for the tutor\n",
    "to tell you :-). Don't spoil the seminar for yourself."
   ]
  },
  {
   "cell_type": "markdown",
   "id": "723e213a",
   "metadata": {
    "heading_collapsed": true
   },
   "source": [
    "## Task 2: <font color='gray'>How to DO it</font>"
   ]
  },
  {
   "cell_type": "markdown",
   "id": "8c79377e",
   "metadata": {
    "heading_collapsed": true,
    "hidden": true
   },
   "source": [
    "### Issues #1 and #2: Key generation\n",
    "\n",
    "To generate a secure key we need to use bigger key sizes and follow [**the recommendations**](https://cryptography.io/en/latest/hazmat/primitives/asymmetric/rsa/?highlight=verify#cryptography.hazmat.primitives.asymmetric.rsa.generate_private_key)<br>\n",
    "for public exponent."
   ]
  },
  {
   "cell_type": "code",
   "execution_count": null,
   "id": "8b33d561",
   "metadata": {
    "hidden": true
   },
   "outputs": [],
   "source": [
    "from cryptography.hazmat.primitives import hashes\n",
    "\n",
    "# generate a 4096-bit long private key\n",
    "private_key = rsa.generate_private_key(\n",
    "    public_exponent=65537,\n",
    "    key_size=4096,\n",
    ")\n",
    "print(isinstance(private_key, rsa.RSAPrivateKey))"
   ]
  },
  {
   "cell_type": "markdown",
   "id": "e0ea65cc",
   "metadata": {
    "heading_collapsed": true,
    "hidden": true
   },
   "source": [
    "### Issues #3: Message (un)padding\n",
    "Again, we need to follow [**the recommendations**](https://cryptography.io/en/latest/hazmat/primitives/asymmetric/rsa/?highlight=verify#cryptography.hazmat.primitives.asymmetric.padding.OAEP) and use different padding scheme - OAEP."
   ]
  },
  {
   "cell_type": "code",
   "execution_count": null,
   "id": "4e05ee90",
   "metadata": {
    "hidden": true
   },
   "outputs": [],
   "source": [
    "pad = padding.OAEP(\n",
    "    mgf=padding.MGF1(algorithm=hashes.SHA256()), algorithm=hashes.SHA256(), label=None\n",
    ")"
   ]
  },
  {
   "cell_type": "markdown",
   "id": "059299e3",
   "metadata": {
    "heading_collapsed": true,
    "hidden": true
   },
   "source": [
    "### Issue #4: Encryption and decryption\n",
    "\n",
    "- [`encrypt()`](https://cryptography.io/en/latest/hazmat/primitives/asymmetric/rsa/?highlight=verify#cryptography.hazmat.primitives.asymmetric.rsa.RSAPublicKey.encrypt) documentation\n",
    "- [`.decrypt()`](https://cryptography.io/en/latest/hazmat/primitives/asymmetric/rsa/?highlight=verify#cryptography.hazmat.primitives.asymmetric.rsa.RSAPrivateKey.decrypt) documentation"
   ]
  },
  {
   "cell_type": "code",
   "execution_count": null,
   "id": "624d1536",
   "metadata": {
    "hidden": true
   },
   "outputs": [],
   "source": [
    "# public key is accesible through the private part\n",
    "public_key = private_key.public_key()\n",
    "print(isinstance(public_key, rsa.RSAPublicKey))\n",
    "\n",
    "# We can encrypt only short messages\n",
    "# to encrypt we use the public key\n",
    "message = b\"message\"\n",
    "ciphertext = public_key.encrypt(\n",
    "    plaintext=message,\n",
    "    padding=pad,\n",
    ")\n",
    "\n",
    "# to decrypt we use the private key\n",
    "plaintext = private_key.decrypt(\n",
    "    ciphertext=ciphertext,\n",
    "    padding=pad,\n",
    ")\n",
    "print(plaintext == message)"
   ]
  },
  {
   "cell_type": "markdown",
   "id": "f76a0fae",
   "metadata": {
    "heading_collapsed": true
   },
   "source": [
    "## Task 3: <font color='gray'>Implement RSA encrypt/decrypt functions</font>"
   ]
  },
  {
   "cell_type": "markdown",
   "id": "7f8e6aae",
   "metadata": {
    "hidden": true
   },
   "source": [
    "Consult the [`cryptography.rsa`](https://cryptography.io/en/latest/hazmat/primitives/asymmetric/rsa/) module if necessary :)"
   ]
  },
  {
   "cell_type": "code",
   "execution_count": null,
   "id": "92397652",
   "metadata": {
    "hidden": true,
    "solution2": "hidden",
    "solution2_first": true
   },
   "outputs": [],
   "source": [
    "from typing import Optional\n",
    "\n",
    "\n",
    "def rsa_encrypt(pubkey: rsa.RSAPublicKey, message: bytes) -> bytes:\n",
    "    # TODO: define the padding\n",
    "    # TODO: try encrypting the message\n",
    "    # TODO: return the ciphertext\n",
    "    pass\n",
    "\n",
    "\n",
    "def rsa_decrypt(privkey: rsa.RSAPrivateKey, ciphertext: bytes) -> Optional[bytes]:\n",
    "    # TODO: define the same padding\n",
    "    # TODO: try decrypting the message\n",
    "    # TODO: return the ciphertext\n",
    "    pass"
   ]
  },
  {
   "cell_type": "code",
   "execution_count": null,
   "id": "d31f703a",
   "metadata": {
    "hidden": true,
    "lines_to_next_cell": 1,
    "solution2": "hidden"
   },
   "outputs": [],
   "source": [
    "def rsa_encrypt(pubkey: rsa.RSAPublicKey, message: bytes) -> Optional[bytes]:\n",
    "    # TODO: define the padding\n",
    "    padding = padding.OAEP(\n",
    "        mgf=padding.MGF1(algorithm=hashes.SHA256()),\n",
    "        algorithm=hashes.SHA256(),\n",
    "        label=None,\n",
    "    )\n",
    "    # TODO: encrypt the message\n",
    "    try:\n",
    "        ciphertext = public_key.encrypt(\n",
    "            message,\n",
    "            padding,\n",
    "        )\n",
    "    except:\n",
    "        ciphertext = None\n",
    "    # TODO: return the ciphertext\n",
    "    return ciphertext\n",
    "\n",
    "\n",
    "def rsa_decrypt(privkey: rsa.RSAPrivateKey, ciphertext: bytes) -> Optional[bytes]:\n",
    "    padding = padding.OAEP(\n",
    "        mgf=padding.MGF1(algorithm=hashes.SHA256()),\n",
    "        algorithm=hashes.SHA256(),\n",
    "        label=None,\n",
    "    )\n",
    "    try:\n",
    "        plaintext = private_key.decrypt(\n",
    "            ciphertext,\n",
    "            padding,\n",
    "        )\n",
    "    except:\n",
    "        plaintext = None\n",
    "\n",
    "    return plaintext"
   ]
  },
  {
   "cell_type": "markdown",
   "id": "91951da8",
   "metadata": {
    "heading_collapsed": true
   },
   "source": [
    "## <font color='blue'>_Checkpoint 2:_</font> <font color='gray'>webserver key API</font>"
   ]
  },
  {
   "cell_type": "markdown",
   "id": "161d9aa1",
   "metadata": {
    "hidden": true
   },
   "source": [
    "**DO NOT** continue futher in the notebook, wait for the tutor to tell you :-).<br>\n",
    "\n",
    "Don't spoil the seminar for yourself."
   ]
  },
  {
   "cell_type": "markdown",
   "id": "3797a09f",
   "metadata": {
    "heading_collapsed": true
   },
   "source": [
    "## Task 4: <font color='gray'>Communication using RSA</font>"
   ]
  },
  {
   "cell_type": "markdown",
   "id": "3a463d3d",
   "metadata": {
    "hidden": true
   },
   "source": [
    "Contrary to symmetric ciphers we **do not need** a second channel\n",
    "in order to share the secret key. However, we need to publish\n",
    "our public key. Next to the previous `send_message`, `recv_message` functions\n",
    "we have prepared also functions to publish your own key and to\n",
    "fetch someone elses key:\n",
    "\n",
    "```python\n",
    "send_message(uco_from: int, uco_to: int, content: bytes) -> str\n",
    "\n",
    "recv_message(uco: int) -> Mapping[str, Union[int, bytes]]\n",
    "\n",
    "publish_key(uco: int, key: rsa.RSAPublicKey) -> str\n",
    "\n",
    "fetch_key(uco: int) -> Optional[rsa.RSAPublicKey]\n",
    "```\n",
    "\n",
    "1. **Generate** your own private/public RSA keypair.\n",
    "2. **Publish** your public key.\n",
    "3. **Fetch** a friend's public key.\n",
    "4. **Encrypt** a message for a friend and **send** it.\n",
    "5. **Receive** a message from a friend and **decrypt** it."
   ]
  },
  {
   "cell_type": "code",
   "execution_count": null,
   "id": "a72fdbb2",
   "metadata": {
    "hidden": true
   },
   "outputs": [],
   "source": [
    "from server_communication import send_message, recv_message\n",
    "from server_communication import publish_key, fetch_key"
   ]
  },
  {
   "cell_type": "code",
   "execution_count": null,
   "id": "11ac1abb",
   "metadata": {
    "hidden": true
   },
   "outputs": [],
   "source": [
    "help(recv_message)"
   ]
  },
  {
   "cell_type": "code",
   "execution_count": null,
   "id": "871617db",
   "metadata": {
    "hidden": true
   },
   "outputs": [],
   "source": [
    "help(fetch_key)"
   ]
  },
  {
   "cell_type": "code",
   "execution_count": null,
   "id": "07c4af8e",
   "metadata": {
    "hidden": true
   },
   "outputs": [],
   "source": [
    "# TODO: 1. **Generate** your bown private/public RSA keypair.\n",
    "# TODO: 2. **Publish** your public key.\n",
    "# TODO: 3. **Fetch** a friend's public key.\n",
    "# TODO: 4. **Encrypt** a message for a friend and **send** it.\n",
    "# TODO: 5. **Receive** a message from a friend and **decrypt** it."
   ]
  },
  {
   "cell_type": "markdown",
   "id": "38e01106",
   "metadata": {
    "heading_collapsed": true
   },
   "source": [
    "## (Bonus) Task: <font color='gray'>Walkthrough \"textbook\" RSA</font>"
   ]
  },
  {
   "cell_type": "markdown",
   "id": "fd8b566c",
   "metadata": {
    "hidden": true
   },
   "source": [
    "When we use the RSA API from the `cryptography` module we\n",
    "do not directly handle the primes $p,q$ and the private exponent\n",
    "$d$. However, even if hidden, those values are still present.\n",
    "\n",
    "### Refresh the math behind RSA encryption/decryption routines\n",
    "\n",
    "RSA consists of **private** primes $p,q$ that form the modulus\n",
    "\n",
    "\\begin{align}\\label{N}\n",
    "N= p\\cdot q\n",
    "\\end{align}\n",
    "\n",
    "The **encryption** of a message $m$ is then defined as:\n",
    "\n",
    "\\begin{align*}\n",
    "c=m^e \\mod N\n",
    "\\end{align*}\n",
    "\n",
    "where $e$ is the public exponent (usually $65537$) and $c$ is\n",
    "the ciphertext. The **decryption** is done using the **private**\n",
    "exponent $d$ that satisfies:\n",
    "\n",
    "\\begin{align}\\label{priv_def}\n",
    "e\\cdot d \\equiv 1 \\mod \\phi(N)\n",
    "\\end{align}\n",
    "\n",
    "For $p,q$ primes it holds that\n",
    "\n",
    "\\begin{align*}\n",
    "\\phi(N) = \\phi(p \\cdot q) = \\phi(p) \\cdot \\phi(q) = (p-1)(q-1)\n",
    "\\end{align*}\n",
    "\n",
    "The **decryption** routine than looks like this\n",
    "\n",
    "\\begin{align}\\label{decryption}\n",
    "c^d = (m^e)^d \\equiv m^{e\\cdot d} \\equiv m \\mod N\n",
    "\\end{align}\n",
    "\n",
    "Use the values before to verify the equalities/congruencies\n",
    "(1), (2) and (3)."
   ]
  },
  {
   "cell_type": "code",
   "execution_count": null,
   "id": "527f535a",
   "metadata": {
    "hidden": true,
    "solution2": "hidden",
    "solution2_first": true
   },
   "outputs": [],
   "source": [
    "p = private_key.private_numbers().p\n",
    "q = private_key.private_numbers().q\n",
    "d = private_key.private_numbers().d\n",
    "\n",
    "e = private_key.public_key().public_numbers().e\n",
    "N = private_key.public_key().public_numbers().n\n",
    "\n",
    "# we will generate a random message\n",
    "import random\n",
    "\n",
    "m = random.randint(0, N - 1)\n",
    "\n",
    "# HINT: use the pow(base, exponent, modulus) to perform\n",
    "# modular exponentiation quickly\n",
    "\n",
    "# TODO: equation (1)\n",
    "\n",
    "# TODO: equation (2)\n",
    "\n",
    "# TODO: equation (3)"
   ]
  },
  {
   "cell_type": "code",
   "execution_count": null,
   "id": "18e68546",
   "metadata": {
    "hidden": true,
    "solution2": "hidden"
   },
   "outputs": [],
   "source": [
    "# FIXME: removing this solution cell\n",
    "\n",
    "# check the modulus\n",
    "print(p * q == N)\n",
    "\n",
    "# check the private key\n",
    "print((d * e) % ((p - 1) * (q - 1)) == 1)\n",
    "\n",
    "# The following might take a loooooooong time to calculate..\n",
    "# print(((m**e) ** d) % N == 1 )\n",
    "# faster implementation\n",
    "ct = pow(m, e, N)\n",
    "pt = pow(ct, d, N)\n",
    "print(pt == m)"
   ]
  }
 ],
 "metadata": {
  "kernelspec": {
   "display_name": "venv",
   "language": "python",
   "name": "venv"
  }
 },
 "nbformat": 4,
 "nbformat_minor": 5
}
