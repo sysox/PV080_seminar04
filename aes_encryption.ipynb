{
 "cells": [
  {
   "cell_type": "markdown",
   "id": "c4a98f5b",
   "metadata": {
    "hide_input": false
   },
   "source": [
    "# Part 1: Symmetric encryption using Advanced-Encryption-Standard (AES)"
   ]
  },
  {
   "cell_type": "markdown",
   "id": "a225a5d6",
   "metadata": {
    "heading_collapsed": true
   },
   "source": [
    "## <font color='gray'>Python cheatsheet</font>"
   ]
  },
  {
   "cell_type": "markdown",
   "id": "b27d2900",
   "metadata": {
    "hidden": true
   },
   "source": [
    "`bytes` can be written in ASCII or HEXA"
   ]
  },
  {
   "cell_type": "code",
   "execution_count": null,
   "id": "35860dab",
   "metadata": {
    "hidden": true
   },
   "outputs": [],
   "source": [
    "print(b\"hello\" == b\"\\x68\\x65\\x6c\\x6c\\x6f\")"
   ]
  },
  {
   "cell_type": "markdown",
   "id": "ded25b33",
   "metadata": {
    "hidden": true
   },
   "source": [
    "`list` and `bytes` types can be concatenated using `+`"
   ]
  },
  {
   "cell_type": "code",
   "execution_count": null,
   "id": "ec730da6",
   "metadata": {
    "hidden": true
   },
   "outputs": [],
   "source": [
    "print([1, 2, 3] + [4, 5] == [1, 2, 3, 4, 5])\n",
    "print(b\"hello\" + b\" world\" == b\"hello world\")"
   ]
  },
  {
   "cell_type": "markdown",
   "id": "97337268",
   "metadata": {
    "hidden": true
   },
   "source": [
    "To slice/access parts of `bytes` or `list` you can use `[start_index:end_index]`"
   ]
  },
  {
   "cell_type": "code",
   "execution_count": null,
   "id": "79282e9d",
   "metadata": {
    "hidden": true
   },
   "outputs": [],
   "source": [
    "print([1, 2, 3, 4, 5][:2] == [1, 2])\n",
    "print([1, 2, 3, 4, 5][2:] == [3, 4, 5])\n",
    "print(b\"earth\"[1:4] == b\"art\")"
   ]
  },
  {
   "cell_type": "markdown",
   "id": "1e893529",
   "metadata": {
    "hidden": true
   },
   "source": [
    "To index a value in a `list` use `[index]`"
   ]
  },
  {
   "cell_type": "code",
   "execution_count": null,
   "id": "2ad3319c",
   "metadata": {
    "hidden": true
   },
   "outputs": [],
   "source": [
    "print([1, 2, 3, 4, 5][3] == 4)"
   ]
  },
  {
   "cell_type": "markdown",
   "id": "cd24b2e7",
   "metadata": {
    "hidden": true
   },
   "source": [
    "To access a `value` in a `dict` us `[\"key\"]`"
   ]
  },
  {
   "cell_type": "code",
   "execution_count": null,
   "id": "6c290700",
   "metadata": {
    "hidden": true
   },
   "outputs": [],
   "source": [
    "print({123456: b\"hello 987654\"}[123456] == b\"hello 987654\")"
   ]
  },
  {
   "cell_type": "markdown",
   "id": "9f25e101",
   "metadata": {
    "heading_collapsed": true
   },
   "source": [
    "## Task 1: <font color='gray'>How _NOT_ to do it</font>"
   ]
  },
  {
   "cell_type": "markdown",
   "id": "bc7fbe9b",
   "metadata": {
    "hidden": true
   },
   "source": [
    "We will start with **a bad implementation** of AES in Python. Your task<br>\n",
    "is to just **identify (not to fix) several** issues (up to 4) in the following `code` cell.<br>\n",
    "Focus on the following parts\n",
    "- Key generation\n",
    "- Message padding and integrity\n",
    "- Cipher configuration and proper API usage\n",
    "\n",
    "**Note** down what you've found.\n",
    "\n",
    "Useful links:\n",
    "- [`datetime`](https://docs.python.org/3/library/datetime.html) module and [`.ctime()`](https://docs.python.org/3/library/datetime.html#datetime.date.ctime) function documentation\n",
    "- [`random`](https://docs.python.org/3/library/random.html) module and [`.randint()`](https://docs.python.org/3/library/random.html#random.randint) function documentation\n",
    "- [`cryptography`](https://cryptography.io/en/latest/hazmat/primitives/symmetric-encryption/#module-cryptography.hazmat.primitives.ciphers) module documentation\n"
   ]
  },
  {
   "cell_type": "code",
   "execution_count": null,
   "id": "f06d4181",
   "metadata": {
    "hidden": true,
    "solution2": "hidden",
    "solution2_first": true
   },
   "outputs": [],
   "source": [
    "import random\n",
    "from datetime import datetime\n",
    "from cryptography.hazmat.primitives.ciphers import Cipher, algorithms, modes\n",
    "\n",
    "random.seed(datetime.today().date().ctime())\n",
    "key = bytes([random.randint(0, 255)] * 16)\n",
    "\n",
    "message = b\"This is the message that we want to encrypt.\"\n",
    "padded_message = message[: len(message) - len(message) % 16]\n",
    "\n",
    "cipher = Cipher(algorithms.AES(key=key), mode=modes.ECB())\n",
    "encryptor = cipher.encryptor()\n",
    "\n",
    "ciphertext = encryptor.update(padded_message)\n",
    "\n",
    "decryptor = cipher.decryptor()\n",
    "plaintext = decryptor.update(ciphertext)"
   ]
  },
  {
   "cell_type": "code",
   "execution_count": null,
   "id": "d93b1dd4",
   "metadata": {
    "hidden": true,
    "solution2": "hidden"
   },
   "outputs": [],
   "source": [
    "import random\n",
    "from datetime import datetime\n",
    "from cryptography.hazmat.primitives.ciphers import Cipher, algorithms, modes\n",
    "\n",
    "# Issue #1: insecure key generation\n",
    "random.seed(datetime.today().date().ctime())\n",
    "key = bytes([random.randint(0, 255)] * 16)\n",
    "\n",
    "message = b\"This is the message that we want to encrypt.\"\n",
    "# Issue #2: incorrect message padding (removes part of the message)\n",
    "padded_message = message[: len(message) - len(message) % 16]\n",
    "\n",
    "# Issue #3: the ECB mode is not secure for longer messages/data\n",
    "cipher = Cipher(algorithms.AES(key=key), mode=modes.ECB())\n",
    "encryptor = cipher.encryptor()\n",
    "\n",
    "# Issue #4: the `encryptor.finalize()` must be called to finish the\n",
    "# encryption. Similarly, `decryptor.finalize()` must be called.\n",
    "ciphertext = encryptor.update(padded_message)\n",
    "\n",
    "decryptor = cipher.decryptor()\n",
    "plaintext = decryptor.update(ciphertext)"
   ]
  },
  {
   "cell_type": "markdown",
   "id": "7465fd04",
   "metadata": {
    "heading_collapsed": true
   },
   "source": [
    "## <font color='blue'>_Checkpoint 1_ <font color='gray'>encryption issues</font>"
   ]
  },
  {
   "cell_type": "markdown",
   "id": "dd483899",
   "metadata": {
    "hidden": true
   },
   "source": [
    "**DO NOT** continue further in the notebook, wait for the tutor to tell you :-). Don't spoil the seminar for yourself."
   ]
  },
  {
   "cell_type": "markdown",
   "id": "3269184b",
   "metadata": {
    "heading_collapsed": true
   },
   "source": [
    "## Task 2: <font color='gray'>How to _DO_ it</font>"
   ]
  },
  {
   "cell_type": "markdown",
   "id": "1608356b",
   "metadata": {
    "hidden": true
   },
   "source": [
    "Now that we know **what and why** was bad in the previous example we\n",
    "can look into how to do it properly."
   ]
  },
  {
   "cell_type": "markdown",
   "id": "ca2b12d0",
   "metadata": {
    "heading_collapsed": true,
    "hidden": true
   },
   "source": [
    "### Issue #1: Key generation\n",
    "To generate a cryptograhically secure and random values we use [`secrets`](https://docs.python.org/3/library/secrets.html) module in Python."
   ]
  },
  {
   "cell_type": "code",
   "execution_count": null,
   "id": "05e7fb9b",
   "metadata": {
    "hidden": true
   },
   "outputs": [],
   "source": [
    "import secrets\n",
    "\n",
    "# generate 16 bytes of cryptographically secure random numbers\n",
    "example_key = secrets.token_bytes(nbytes=16)\n",
    "print(example_key.hex(sep=\" \"))"
   ]
  },
  {
   "cell_type": "markdown",
   "id": "d2e31b33",
   "metadata": {
    "heading_collapsed": true,
    "hidden": true
   },
   "source": [
    "### Issue #2: Message (un)padding\n",
    "\n",
    "To properly **pad** and **unpad** a message we need to use the provided [`padding`](https://cryptography.io/en/latest/hazmat/primitives/padding/) API."
   ]
  },
  {
   "cell_type": "code",
   "execution_count": null,
   "id": "e0ca7d38",
   "metadata": {
    "hidden": true
   },
   "outputs": [],
   "source": [
    "from cryptography.hazmat.primitives import padding\n",
    "\n",
    "message = b\"message\"\n",
    "\n",
    "# create a padding object and initialize it to block size of 128 bits = 16 bytes\n",
    "padder = padding.PKCS7(128).padder()\n",
    "padded_data = padder.update(message)\n",
    "print(f\"Padding before finalization: {padded_data.hex()}\")\n",
    "\n",
    "# make sure to finalize the padding!\n",
    "padded_data += padder.finalize()\n",
    "print(f\"After padding finalization: {padded_data.hex()}\")"
   ]
  },
  {
   "cell_type": "code",
   "execution_count": null,
   "id": "4cfc7f83",
   "metadata": {
    "hidden": true
   },
   "outputs": [],
   "source": [
    "# Once we decrypt we need to unpad the message\n",
    "# create a padding object and initialize it to block size of 128 bits = 16 bytes\n",
    "unpadder = padding.PKCS7(128).unpadder()\n",
    "data = unpadder.update(padded_data) + unpadder.finalize()\n",
    "print(f\"Unpadded message: {data.hex()}\")"
   ]
  },
  {
   "cell_type": "markdown",
   "id": "c2581a7c",
   "metadata": {
    "heading_collapsed": true,
    "hidden": true
   },
   "source": [
    "### Issue #3: Secure mode CBC\n",
    "ECB mode is **not secure** in the most cases. We are going to use **CBC** mode.<br>\n",
    "This mode requires so called **initialization vector** (IV). There are 3 important<br>\n",
    "facts about the IV:\n",
    "1. it must be **random** (similarly to the key),\n",
    "2. its size is **the same** as the block size of the cipher (**16 bytes** for AES),\n",
    "3. the IV **is transmitted** to the receiving party **it is not secret**:\n",
    "    - a common approach is to **prefix** the final ciphertext with the IV value"
   ]
  },
  {
   "cell_type": "code",
   "execution_count": null,
   "id": "14d9c2df",
   "metadata": {
    "hidden": true
   },
   "outputs": [],
   "source": [
    "# how to initialize CBC mode\n",
    "iv = secrets.token_bytes(nbytes=16)\n",
    "cbc = modes.CBC(iv)\n",
    "\n",
    "# Hint: how to prefix the IV\n",
    "ciphertext = b\"\\x16k\\xa5\\xa8S\\x9f\\x8e\\xe5\\xf8\\xf5r\\x85OIUo\"\n",
    "iv_and_ciphertext = iv + ciphertext\n",
    "\n",
    "# Hint: to split the `iv_and_ciphertext` into individual parts\n",
    "# take first 16 bytes\n",
    "extracted_iv = iv_and_ciphertext[:16]\n",
    "# take the remaining bytes from 17th to the end\n",
    "extracted_ct = iv_and_ciphertext[16:]\n",
    "\n",
    "print(iv == extracted_iv)\n",
    "print(ciphertext == extracted_ct)"
   ]
  },
  {
   "cell_type": "markdown",
   "id": "f0532b96",
   "metadata": {
    "heading_collapsed": true,
    "hidden": true
   },
   "source": [
    "### Issue #4: Finalization\n",
    "\n",
    "Make sure to call the `.finalize()` method to:\n",
    "- finish encryption and decryption\n",
    "```python\n",
    "encryptor.finalize()\n",
    "decryptor.finalize()\n",
    "```\n",
    "- finish padding/unpadding\n",
    "```python\n",
    "padder.finalize()\n",
    "unpadder.finalize()\n",
    "```"
   ]
  },
  {
   "cell_type": "markdown",
   "id": "d166464f",
   "metadata": {
    "heading_collapsed": true
   },
   "source": [
    "## Task 3: <font color='gray'>Implement AES encrypt/decrypt functions</font>"
   ]
  },
  {
   "cell_type": "markdown",
   "id": "654f92f1",
   "metadata": {
    "hidden": true
   },
   "source": [
    "Now you have all the building blocks (no pun intended :-)) to build encryption<br>\n",
    "and decryption functions. **Follow** the `TODO`s and implement `aes_cbc_encrypt`<br>\n",
    "and `aes_cbc_decrypt`.\n",
    "\n",
    "You can use all the previous examples to implement AES-CBC with 16B keys.\n",
    "\n",
    "If you need to you can use the [`cryptography`](https://cryptography.io/en/latest/hazmat/primitives/symmetric-encryption/#module-cryptography.hazmat.primitives.ciphers) documentation."
   ]
  },
  {
   "cell_type": "code",
   "execution_count": null,
   "id": "a871226d",
   "metadata": {
    "hidden": true
   },
   "outputs": [],
   "source": [
    "def aes_cbc_encrypt(key: bytes, message: bytes) -> bytes:\n",
    "    # TODO: add PKCS7 padding to the message\n",
    "    # TODO: generate the initialization vector\n",
    "    # TODO: initialize the CBC encryption mode\n",
    "    # TODO: encrypt the message including the finalization of the encryption\n",
    "    # TODO: prefix the ciphertext with the intialization vector (concatenate iv and ciphertext)\n",
    "    # TODO: return the ciphertext\n",
    "    pass"
   ]
  },
  {
   "cell_type": "code",
   "execution_count": null,
   "id": "e93c73ba",
   "metadata": {
    "hidden": true
   },
   "outputs": [],
   "source": [
    "def aes_cbc_decrypt(key: bytes, ciphertext: bytes) -> bytes:\n",
    "    # TODO: extract the IV from the ciphertext\n",
    "    # TODO: initialize the CBC encryption mode\n",
    "    # TODO: decrypt the ciphertext including the finalization\n",
    "    # TODO: unpad the padded plaintext to obtain the original msg\n",
    "    # TODO: return the plaintext\n",
    "    pass"
   ]
  },
  {
   "cell_type": "code",
   "execution_count": null,
   "id": "e66a30e2",
   "metadata": {
    "hidden": true,
    "solution2": "hidden",
    "solution2_first": true
   },
   "outputs": [],
   "source": [
    "# Test that encryption/decryption works\n",
    "test_key = secrets.token_bytes(16)\n",
    "test_message = b\"some test message\"\n",
    "test_ciphertext = aes_cbc_encrypt(key=test_key, message=test_message)\n",
    "test_plaintext = aes_cbc_decrypt(key=test_key, ciphertext=test_ciphertext)\n",
    "print(test_message == test_plaintext)"
   ]
  },
  {
   "cell_type": "code",
   "execution_count": null,
   "id": "79162395",
   "metadata": {
    "hidden": true,
    "solution2": "hidden"
   },
   "outputs": [],
   "source": [
    "# FIXME remove this solution cell\n",
    "from cryptography.hazmat.primitives.ciphers.modes import CBC\n",
    "from cryptography.hazmat.primitives import padding\n",
    "import secrets\n",
    "\n",
    "\n",
    "def SOLUTION_aes_cbc_encrypt(key: bytes, message: bytes) -> bytes:\n",
    "    # TODO: add PKCS7 padding to the message\n",
    "    padder = padding.PKCS7(128).padder()\n",
    "    padded_msg = padder.update(message) + padder.finalize()\n",
    "    # TODO: generate the initialization vector\n",
    "    iv = secrets.token_bytes(16)\n",
    "    # TODO: initialize the CBC encryption mode\n",
    "    cipher = Cipher(algorithms.AES(key=key), mode=modes.CBC(iv))\n",
    "    encryptor = cipher.encryptor()\n",
    "    # TODO: encrypt the message including the finalization of the encryption\n",
    "    ciphertext = encryptor.update(padded_msg) + encryptor.finalize()\n",
    "    # TODO: prefix the ciphertext with the intialization vector\n",
    "    # TODO: return the ciphertext\n",
    "    return iv + ciphertext\n",
    "\n",
    "\n",
    "def SOLUTION_aes_cbc_decrypt(key: bytes, ciphertext: bytes) -> bytes:\n",
    "    # TODO: extract the IV from the ciphertext\n",
    "    iv = ciphertext[:16]\n",
    "    ciphertext = ciphertext[16:]\n",
    "    # TODO: initialize the CBC encryption mode\n",
    "    cipher = Cipher(algorithms.AES(key=key), mode=modes.CBC(iv))\n",
    "    decryptor = cipher.decryptor()\n",
    "    # TODO: decrypt the ciphertext including the finalization\n",
    "    padded_plaintext = decryptor.update(ciphertext) + decryptor.finalize()\n",
    "    # TODO: unpad the padded plaintext to obtain the original msg\n",
    "    unpadder = padding.PKCS7(128).unpadder()\n",
    "    plaintext = unpadder.update(padded_plaintext) + unpadder.finalize()\n",
    "    # TODO: return the plaintext\n",
    "    return plaintext"
   ]
  },
  {
   "cell_type": "markdown",
   "id": "1a62e6bb",
   "metadata": {
    "heading_collapsed": true
   },
   "source": [
    "## <font color='blue'>_Checkpoint 2_:</font>  <font color='gray'>webserver message API</font>"
   ]
  },
  {
   "cell_type": "markdown",
   "id": "979530c5",
   "metadata": {
    "hidden": true
   },
   "source": [
    "**DO NOT** continue further in the notebook, wait for the tutor to tell you :-).<br>\n",
    "\n",
    "Don't spoil the seminar for yourself."
   ]
  },
  {
   "cell_type": "markdown",
   "id": "9a4e3b29",
   "metadata": {
    "heading_collapsed": true
   },
   "source": [
    "## Task 4: <font color='gray'>encrypted communication over the \"wire\"</font>"
   ]
  },
  {
   "cell_type": "markdown",
   "id": "880e371b",
   "metadata": {
    "heading_collapsed": true,
    "hidden": true
   },
   "source": [
    "### 4.1 Key sharing"
   ]
  },
  {
   "cell_type": "markdown",
   "id": "4a966a30",
   "metadata": {
    "hidden": true
   },
   "source": [
    "To share a key we need **a secure channel**. For now we\n",
    "don't have a better secure channel than to directly **give** the key\n",
    "to the other party.\n",
    "\n",
    "Use the paper to write down **your UCO** and **your own key**:\n",
    "![attachment:key-4.png](attachment:attachment:key-4.png)"
   ]
  },
  {
   "cell_type": "code",
   "execution_count": null,
   "id": "4b687577",
   "metadata": {
    "hidden": true
   },
   "outputs": [],
   "source": [
    "example_key = secrets.token_bytes(16)\n",
    "# Hint: to print the key in a format that is easier to write down\n",
    "print(example_key.hex(sep=\" \"))"
   ]
  },
  {
   "cell_type": "code",
   "execution_count": null,
   "id": "452ba2ba",
   "metadata": {
    "hidden": true
   },
   "outputs": [],
   "source": [
    "# Hint: to convert the key into bytes from the readable format\n",
    "print(bytes.fromhex(\"CE 9C 89 28 27 20 C4 2E 36 2F 20 30 8C 1F F3 F8\"))"
   ]
  },
  {
   "cell_type": "markdown",
   "id": "1896733b",
   "metadata": {
    "heading_collapsed": true,
    "hidden": true
   },
   "source": [
    "### 4.2 Communication"
   ]
  },
  {
   "cell_type": "markdown",
   "id": "e6436850",
   "metadata": {
    "hidden": true
   },
   "source": [
    "We've prepared a simple web server, which you can use to send **a single message** over<br>\n",
    "(only the last message is kept to make things simple). Use the following functions<br>\n",
    "to exchange messages. To send a message from UCO to UCO there is a function:<br>\n",
    "```python\n",
    "send_msg(uco_from: int, uco_to: int, message: bytes) -> str\n",
    "```\n",
    "And to receive a message to UCO use:\n",
    "```python\n",
    "recv_message(uco: int) -> Mapping[str, Union[int, bytes]]\n",
    "```"
   ]
  },
  {
   "cell_type": "code",
   "execution_count": null,
   "id": "00e047de",
   "metadata": {
    "hidden": true
   },
   "outputs": [],
   "source": [
    "from server_communication import send_message, recv_message"
   ]
  },
  {
   "cell_type": "markdown",
   "id": "853229ee",
   "metadata": {
    "hidden": true
   },
   "source": [
    "You can use `help(<funtion_name>)` to display the documentation."
   ]
  },
  {
   "cell_type": "code",
   "execution_count": null,
   "id": "f79ed961",
   "metadata": {
    "hidden": true
   },
   "outputs": [],
   "source": [
    "help(send_message)\n",
    "help(recv_message)"
   ]
  },
  {
   "cell_type": "markdown",
   "id": "e0656d64",
   "metadata": {
    "hidden": true
   },
   "source": [
    "Use the previously implemented functions to communicate securely with your classmate:\n",
    "1. **Generate** a secret key (make sure not to **overwrite it** by executing the cell again).\n",
    "2. **Write down** the key in hexa on a paper and **exchange it** with a friend.\n",
    "3. **Encrypt** a message using the preshared key and send it using `send_message`.\n",
    "4. ..._wait_... for your friend's message and receive it using `recv_message`.\n",
    "5. **Decrypt** the message using the preshared key."
   ]
  },
  {
   "cell_type": "code",
   "execution_count": null,
   "id": "ba27aaa6",
   "metadata": {
    "hidden": true
   },
   "outputs": [],
   "source": [
    "# TODO 1. **Generate** a secret key (make sure not to **overwrite it** by executing the cell again)."
   ]
  },
  {
   "cell_type": "code",
   "execution_count": null,
   "id": "c598a11c",
   "metadata": {
    "hidden": true,
    "solution2": "hidden",
    "solution2_first": true
   },
   "outputs": [],
   "source": [
    "# TODO: 2. **Write down** the key in hexa on a paper and **exchange it** with a friend.\n",
    "# TODO: 3. **Encrypt** a message using the preshared key and send it using `send_message`.\n",
    "#       4. ..._wait_... for your friend's message and receive it using `recv_message`.\n",
    "# TODO: 5. **Decrypt** the message using the preshared key."
   ]
  },
  {
   "cell_type": "code",
   "execution_count": null,
   "id": "4d196f9d",
   "metadata": {
    "hidden": true,
    "hide_input": false,
    "solution2": "hidden"
   },
   "outputs": [],
   "source": [
    "key = secrets.token_bytes(16)"
   ]
  },
  {
   "cell_type": "code",
   "execution_count": null,
   "id": "3fccad75",
   "metadata": {
    "hidden": true,
    "solution2": "hidden"
   },
   "outputs": [],
   "source": [
    "ciphertext = aes_cbc_encrypt(key=key, message=b\"my message\")\n",
    "send_message(uco_from=123456, uco_to=987654, content=ciphertext)\n",
    "# ...wait... for a friend to send a message to you\n",
    "ciphertext_from_123456 = recv_message(uco=987654)[123456]\n",
    "plaintext = aes_cbc_decrypt(key=key, ciphertext=ciphertext_from_123456)"
   ]
  }
 ],
 "metadata": {
  "jupytext": {
   "formats": "ipynb,py:light"
  },
  "kernelspec": {
   "display_name": "venv",
   "language": "python",
   "name": "venv"
  }
 },
 "nbformat": 4,
 "nbformat_minor": 5
}
